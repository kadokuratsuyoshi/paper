{
 "cells": [
  {
   "cell_type": "markdown",
   "metadata": {},
   "source": [
    "<div style=\"text-align: center;\">\n",
    "\n",
    "# 量子乱流におけるエネルギーカスケード機構"
   ]
  },
  {
   "cell_type": "markdown",
   "metadata": {},
   "source": [
    "### 要旨"
   ]
  },
  {
   "cell_type": "markdown",
   "metadata": {},
   "source": [
    "本学位論文は量子流体における乱流の理論的研究について報告する。\n",
    "量子流体を記述するGross-Pitaevskii方程式の数値計算による方法をとり以下の研究をテーマとした。\n"
   ]
  },
  {
   "cell_type": "markdown",
   "metadata": {},
   "source": [
    "1.量子乱流における渦度の階層構造 <br>\n",
    "2.量子乱流における二次元三次元クロスオーバー <br>\n",
    "3.多成分二次元量子乱流の逆カスケード"
   ]
  },
  {
   "cell_type": "markdown",
   "metadata": {},
   "source": [
    "「1.量子乱流における渦度の階層構造」とは、古典流体で確認されている系のサイズほどの大きなスケールの渦度が段階を経て小さなスケールの渦度に"
   ]
  },
  {
   "cell_type": "markdown",
   "metadata": {},
   "source": [
    "### Abstruct"
   ]
  },
  {
   "cell_type": "markdown",
   "metadata": {},
   "source": [
    "This thesis reports study of turbulence in quantum fluid theoretically. Our arguments are numerical simulation of the Gross-Pitaevskii model. In this study, we have pseud-spectrum method. Ths subjects are "
   ]
  },
  {
   "cell_type": "markdown",
   "metadata": {},
   "source": [
    "1.Orthogonal and antiparallel vortex tubes and energy cascades in quantum turbulence <br>\n",
    "2.2D-3D cross-over velocity field in quantum turbulence <br>\n",
    "3.Inverse cascede of multi-component in two dimensional quantum turbulence"
   ]
  },
  {
   "cell_type": "markdown",
   "metadata": {},
   "source": [
    "### 1.序章"
   ]
  },
  {
   "cell_type": "markdown",
   "metadata": {},
   "source": [
    "#### 1-1.背景"
   ]
  },
  {
   "cell_type": "markdown",
   "metadata": {},
   "source": [
    "今だ未解決な課題として知られている物理学の一つである乱流現象について量子力学の立場から\n",
    "本論文は、第2章にて量子流体と乱流の基礎について解説し、本研究を理解するうえで必要となる知見を示す。\n",
    "第3章では「量子乱流における渦度の階層構造」、第4章で「量子乱流における二次元三次元クロスオーバー 」、第5章で「.多成分二次元量子乱流の逆カスケード」に関する研究結果について示す。第6章で本論文の結論と展望を述べる。"
   ]
  },
  {
   "cell_type": "markdown",
   "metadata": {},
   "source": [
    "### 2.量子流体と乱流の基礎"
   ]
  },
  {
   "cell_type": "markdown",
   "metadata": {},
   "source": [
    "本論文では量子流体による乱流の研究結果を示す。本章では、これらの結果を理解する上で必要となる「量子流体の基礎」、「乱流の基礎」について解説する。"
   ]
  },
  {
   "cell_type": "markdown",
   "metadata": {},
   "source": [
    "#### 2-1.量子流体の基礎"
   ]
  },
  {
   "cell_type": "markdown",
   "metadata": {},
   "source": [
    "本節では量子流体を表すGross-Pitaevskii方程式、それの平均場理論について解説する。"
   ]
  },
  {
   "cell_type": "markdown",
   "metadata": {},
   "source": [
    "#### 1-3. ボース粒子"
   ]
  },
  {
   "cell_type": "markdown",
   "metadata": {},
   "source": [
    "#### 1-4. Gross-Pitaevskii方程式"
   ]
  },
  {
   "cell_type": "markdown",
   "metadata": {},
   "source": [
    "秩序変数とよばれる巨視的波動関数"
   ]
  },
  {
   "cell_type": "markdown",
   "metadata": {},
   "source": [
    "$\n",
    "\\begin{eqnarray}\n",
    "\\Psi = \\Psi_0 e^{i \\theta}\n",
    "\\end{eqnarray}\n",
    "$"
   ]
  },
  {
   "cell_type": "markdown",
   "metadata": {},
   "source": [
    "量子流体の速度場"
   ]
  },
  {
   "cell_type": "markdown",
   "metadata": {},
   "source": [
    "$\n",
    "\\begin{eqnarray}\n",
    "\\boldsymbol{v}_s = \\frac{\\hbar}{2m}\\nabla \\theta\n",
    "\\end{eqnarray}\n",
    "$"
   ]
  },
  {
   "cell_type": "markdown",
   "metadata": {},
   "source": [
    "渦芯のサイズはほぼ回復長と呼ばれる大きさ"
   ]
  },
  {
   "cell_type": "markdown",
   "metadata": {},
   "source": [
    "$\n",
    "\\begin{eqnarray}\n",
    "\\xi = \\frac{1}{\\sqrt{2mg\\rho}}, \\rho = | \\Psi |^2\n",
    "\\end{eqnarray}\n",
    "$"
   ]
  },
  {
   "cell_type": "markdown",
   "metadata": {},
   "source": [
    "循環量子"
   ]
  },
  {
   "cell_type": "markdown",
   "metadata": {},
   "source": [
    "$\n",
    "\\begin{eqnarray}\n",
    "\\oint_c \\boldsymbol{v}_s \\cdot d s & = &  \\frac{\\hbar}{2m}\\oint_c \\nabla \\phi \\cdot ds = \\frac{\\hbar}{2m} \\times 2 \\pi n = \\kappa n, \\\\\n",
    "& & (n = 1, 2, \\cdots) \\\\\n",
    "\\kappa & = & \\frac{h}{2m}\n",
    "\\end{eqnarray}\n",
    "$"
   ]
  },
  {
   "cell_type": "markdown",
   "metadata": {},
   "source": [
    "$\n",
    "\\begin{eqnarray}\n",
    "i \\hbar \\frac{\\partial \\Psi}{\\partial t} = \\left[-\\frac{\\hbar^2 \\nabla^2}{2m}+V_{ext}(\\boldsymbol{r})+g|\\Psi|^2 \\right]\\Psi\n",
    "\\end{eqnarray}\n",
    "$"
   ]
  },
  {
   "cell_type": "markdown",
   "metadata": {},
   "source": [
    "#### 1-5.量子流体"
   ]
  },
  {
   "cell_type": "markdown",
   "metadata": {},
   "source": [
    "一般には(*)に示すような時間発展型のGP方程式を用いるが、それにもかかわらず\n",
    "同等の方程式のセットは、凝縮物の他の特性を解明するのに役立ちます。$\\Psi=\\sqrt{\\rho}\\exp(i \\theta)$の解は、系を密度$\\rho$と位相勾配$\\theta$で記述できる、一般に秩序変数と呼ぶ。(*)の複素共役に$\\Psi$を掛け、確率流束を定義することで流体力学の連続の式と同様の式を得る。"
   ]
  },
  {
   "cell_type": "markdown",
   "metadata": {},
   "source": [
    "$\n",
    "\\begin{eqnarray}\n",
    "\\frac{\\partial|\\Psi|^2}{\\partial t}+\\nabla \\cdot \\left[\\frac{i\\hbar}{2m}\\left(\n",
    "\\Psi \\nabla \\Psi^{\\dagger} - \\Psi^{\\dagger} \\nabla \\Psi\n",
    "\\right)\n",
    "\\right]=0\n",
    "\\end{eqnarray}\n",
    "$"
   ]
  },
  {
   "cell_type": "markdown",
   "metadata": {},
   "source": [
    "を$\\rho$、を$\\boldsymbol{j}$と定義し、"
   ]
  },
  {
   "cell_type": "markdown",
   "metadata": {},
   "source": [
    "$\n",
    "\\begin{eqnarray}\n",
    "\\frac{\\partial \\rho}{\\partial t}+\\nabla \\cdot \\boldsymbol{j}=0\n",
    "\\end{eqnarray}\n",
    "$"
   ]
  },
  {
   "cell_type": "markdown",
   "metadata": {},
   "source": [
    "速度場を"
   ]
  },
  {
   "cell_type": "markdown",
   "metadata": {},
   "source": [
    "$\n",
    "\\begin{eqnarray}\n",
    "\\boldsymbol{v} & = & \\frac{i \\hbar}{2m}\n",
    "\\frac{\\left(\n",
    "\\Psi \\nabla \\Psi^{\\dagger} - \\Psi^{\\dagger} \\nabla \\Psi\n",
    "\\right)}{|\\Psi|^2}\n",
    "\\end{eqnarray}\n",
    "$"
   ]
  },
  {
   "cell_type": "markdown",
   "metadata": {},
   "source": [
    "#### 1-6.量子乱流"
   ]
  },
  {
   "cell_type": "markdown",
   "metadata": {},
   "source": [
    "#### 1-7.古典乱流"
   ]
  },
  {
   "cell_type": "markdown",
   "metadata": {},
   "source": [
    "### 3.量子乱流における渦度の階層構造"
   ]
  },
  {
   "cell_type": "markdown",
   "metadata": {},
   "source": [
    "本章では、量子乱流における渦度分布についてGP方程式を用いて調べる。最初に低波数の渦束を配置した系で高波数の渦度分布が現れるダイナミクスとその特徴を調べ、その後、三次元の等方一様な量子乱流の状態の系に対し同様の調査を行いその性質を議論する。"
   ]
  },
  {
   "cell_type": "markdown",
   "metadata": {},
   "source": [
    "#### 3-1.研究背景・動機"
   ]
  },
  {
   "cell_type": "markdown",
   "metadata": {},
   "source": [
    "レイノルズ数が増加するにつれ流体力学的不安定性により層流は次第に乱流に変化し、そのエネルギーは大きなスケールの渦から小さなスケールの渦に向かって伝搬する。エネルギーのカスケード機構は既にレオナルド・ダヴィンチが描いたのスケッチの大きな渦と小さな渦の図によって示唆している。一方、リチャードソンによる描像ではよりはっきりと乱流のエネルギーカスケードの機構を大きな渦輪から小さな渦輪に分割される説明として残している。"
   ]
  },
  {
   "cell_type": "markdown",
   "metadata": {},
   "source": [
    "#### 3-2.方法"
   ]
  },
  {
   "cell_type": "code",
   "execution_count": null,
   "metadata": {},
   "outputs": [],
   "source": [
    "$\n",
    "\\begin{eqnarray}\n",
    "\\end{eqnarray}\n",
    "$"
   ]
  },
  {
   "cell_type": "code",
   "execution_count": null,
   "metadata": {},
   "outputs": [],
   "source": [
    "$\n",
    "\\begin{eqnarray}\n",
    "\\end{eqnarray}\n",
    "$"
   ]
  },
  {
   "cell_type": "code",
   "execution_count": null,
   "metadata": {},
   "outputs": [],
   "source": [
    "$\n",
    "\\begin{eqnarray}\n",
    "\\end{eqnarray}\n",
    "$"
   ]
  },
  {
   "cell_type": "code",
   "execution_count": null,
   "metadata": {},
   "outputs": [],
   "source": [
    "$\n",
    "\\begin{eqnarray}\n",
    "\\end{eqnarray}\n",
    "$"
   ]
  },
  {
   "cell_type": "code",
   "execution_count": null,
   "metadata": {},
   "outputs": [],
   "source": [
    "$\n",
    "\\begin{eqnarray}\n",
    "\\end{eqnarray}\n",
    "$"
   ]
  },
  {
   "cell_type": "code",
   "execution_count": null,
   "metadata": {},
   "outputs": [],
   "source": [
    "$\n",
    "\\begin{eqnarray}\n",
    "\\end{eqnarray}\n",
    "$"
   ]
  },
  {
   "cell_type": "markdown",
   "metadata": {},
   "source": [
    "$\n",
    "\\begin{eqnarray}\n",
    "E_1 & = & \\frac{1}{2} \\int d \\boldsymbol{r} | \\boldsymbol{w}(\\boldsymbol{r})^2, \\\\\n",
    "& = & \\frac{1}{2} \\int d \\boldsymbol{r} \\left[ | \\boldsymbol{w}_\\rm{T} (\\boldsymbol{r})|^2\\right]\n",
    "\\end{eqnarray}\n",
    "$"
   ]
  },
  {
   "cell_type": "markdown",
   "metadata": {},
   "source": [
    "$\n",
    "\\begin{eqnarray}\n",
    "E^{\\rm{ic}}_1 & = & \\frac{1}{2}\\int | \\boldsymbol{W}_\\rm{T}(\\boldsymbol{r})|^2 d \\boldsymbol{r} \\\\\n",
    "& = & \\frac{1}{2} \\int \\frac{d \\boldsymbol{k}}{(2 \\pi)^3} \\tilde{\\boldsymbol{w}}_\\rm{T} ( \\boldsymbol{k} ) \\cdot \\tilde{\\boldsymbol{w}}_\\rm{T} ( - \\boldsymbol{k} ), \\\\\n",
    "& = & \\int d k E (\\boldsymbol{k}).\n",
    "\\end{eqnarray}\n",
    "$"
   ]
  },
  {
   "cell_type": "markdown",
   "metadata": {},
   "source": [
    "#### 3-3.結果"
   ]
  },
  {
   "cell_type": "markdown",
   "metadata": {},
   "source": [
    "#### 3-4.考察"
   ]
  },
  {
   "cell_type": "markdown",
   "metadata": {},
   "source": [
    "#### 3-5.結論"
   ]
  },
  {
   "cell_type": "markdown",
   "metadata": {},
   "source": [
    "### 4.量子乱流の二次元三次元クロスオーバー"
   ]
  },
  {
   "cell_type": "markdown",
   "metadata": {},
   "source": [
    "本章では、準二次元系の量子乱流における速度場のフラットネスについてGP方程式を用いて調べる。等方一様な三次元系における量子乱流では、古典乱流と同様のKolmogorov-3/5乗則が現れるが、準二次元系では低波数側に-3乗の冪のエンストロフィーカスケードが現れる。その-3乗の冪と-5/3の冪のクロスオーバー領域ではカスケードにおいて渦の間欠が伴い、速度場の乱れが生じる。量子流体においても同様の現象が現れるか調査をおこないその性質を議論する。"
   ]
  },
  {
   "cell_type": "markdown",
   "metadata": {},
   "source": [
    "#### 4-1.研究背景・動機"
   ]
  },
  {
   "cell_type": "markdown",
   "metadata": {},
   "source": [
    "LIA、地球物理学や気象学で"
   ]
  },
  {
   "cell_type": "markdown",
   "metadata": {},
   "source": [
    "#### 4-2.方法"
   ]
  },
  {
   "cell_type": "markdown",
   "metadata": {},
   "source": [
    "$\n",
    "\\begin{eqnarray}\n",
    "E_{kin}=\\sum_{i}\\frac{1}{2}\\int |\\boldsymbol{\\nabla}\\psi_i|^2 d \\boldsymbol{r}\n",
    "\\end{eqnarray}\n",
    "$\n"
   ]
  },
  {
   "cell_type": "markdown",
   "metadata": {},
   "source": [
    "$\n",
    "\\begin{eqnarray}\n",
    "\\boldsymbol{v}_A (\\boldsymbol{r})=\\frac{ {\\sum_j}\\rho_j(\\boldsymbol{r}) \\boldsymbol{\\nabla}\\phi_j (\\boldsymbol{r})}{\\sum_j \\rho_j (\\boldsymbol{r})}\n",
    "\\end{eqnarray}\n",
    "$"
   ]
  },
  {
   "cell_type": "markdown",
   "metadata": {},
   "source": [
    "#### 4-3.結果"
   ]
  },
  {
   "cell_type": "markdown",
   "metadata": {},
   "source": [
    "#### 4-4.考察"
   ]
  },
  {
   "cell_type": "markdown",
   "metadata": {},
   "source": [
    "#### 4-5.結論"
   ]
  },
  {
   "cell_type": "markdown",
   "metadata": {},
   "source": [
    "### 5.多成分二次元量子乱流の逆カスケード"
   ]
  },
  {
   "cell_type": "markdown",
   "metadata": {},
   "source": [
    "本章では、二次元系の量子乱流における高波数のエネルギー注入からの逆カスケードについてGP方程式を用いて調べる。先行研究では二次元量子流体において十分なKolmogorov-3/5乗則が現れない。古典流体にはない量子渦の対消滅によるものと推測され、本研究では多成分系による量子渦の対消滅の縮小を図り、古典流体と同様のエネルギーカスケードの振る舞いが現れるか調査をおこないその性質を議論する。"
   ]
  },
  {
   "cell_type": "markdown",
   "metadata": {},
   "source": [
    "#### 5-1.背景・動機"
   ]
  },
  {
   "cell_type": "markdown",
   "metadata": {},
   "source": [
    "揺動散逸定理、一成分系の量子渦の直径よりも多成分では互いの渦芯に入り込むために比較的大きい。また多成分では量子渦の対消滅の頻度も低くなることから、量子流体特有の現象も抑えられ古典流体の振る舞いに近づくと想定される。"
   ]
  },
  {
   "cell_type": "markdown",
   "metadata": {},
   "source": [
    "#### 5-2.方法"
   ]
  },
  {
   "cell_type": "markdown",
   "metadata": {},
   "source": [
    "$\n",
    "\\begin{eqnarray}\n",
    "E = \\int d \\boldsymbol{r} \\left( -\\sum_{j=1}^{n} \\frac{\\hbar^2}{2m_j} \\nabla^2 \\psi_j \\right)\n",
    "+ \\sum_{j,j^\\prime} \\frac{g_{jj^\\prime}}{2} |\\psi_j|^2 |\\psi_{j^\\prime}|^2  \n",
    "\\end{eqnarray}\n",
    "$"
   ]
  },
  {
   "cell_type": "markdown",
   "metadata": {},
   "source": [
    "$\n",
    "\\begin{eqnarray}\n",
    "\\Psi(\\boldsymbol{r}) & = & \\left( \\psi_1(\\boldsymbol{r}) \\cdots \\psi_n(\\boldsymbol{r}) \\right)^{\\rm{T}} = \\sqrt[n]{\\rho} \\left(\\xi_1(\\boldsymbol{r}) \\cdots \\xi_n(\\boldsymbol{r}) \\right)^{\\rm{T}}\n",
    "\\end{eqnarray}\n",
    "$"
   ]
  },
  {
   "cell_type": "markdown",
   "metadata": {},
   "source": [
    "$\n",
    "\\begin{eqnarray}\n",
    "i \\hbar \\frac{\\partial \\psi_i}{\\partial t} = - \\frac{\\hbar^2}{2m_i}\\nabla^2 \\psi_i + g_{ii}|\\psi_i|^2 \\psi_i + g_{ij}|\\psi_j|^2\\psi_i, \\ i \\neq j\n",
    "\\end{eqnarray}\n",
    "$"
   ]
  },
  {
   "cell_type": "markdown",
   "metadata": {},
   "source": [
    "#### 5-3.結果"
   ]
  },
  {
   "cell_type": "markdown",
   "metadata": {},
   "source": [
    "#### 5-4.考察"
   ]
  },
  {
   "cell_type": "markdown",
   "metadata": {},
   "source": [
    "#### 5-5.結論"
   ]
  },
  {
   "cell_type": "markdown",
   "metadata": {},
   "source": [
    "### 6.結論と展望"
   ]
  },
  {
   "cell_type": "markdown",
   "metadata": {},
   "source": [
    "### 引用"
   ]
  },
  {
   "cell_type": "code",
   "execution_count": null,
   "metadata": {},
   "outputs": [],
   "source": []
  }
 ],
 "metadata": {
  "kernelspec": {
   "display_name": "Python 3",
   "language": "python",
   "name": "python3"
  },
  "language_info": {
   "codemirror_mode": {
    "name": "ipython",
    "version": 3
   },
   "file_extension": ".py",
   "mimetype": "text/x-python",
   "name": "python",
   "nbconvert_exporter": "python",
   "pygments_lexer": "ipython3",
   "version": "3.7.3"
  }
 },
 "nbformat": 4,
 "nbformat_minor": 2
}
