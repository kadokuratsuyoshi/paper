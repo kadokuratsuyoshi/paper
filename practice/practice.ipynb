{
 "cells": [
  {
   "cell_type": "markdown",
   "metadata": {},
   "source": [
    "・超関数 $\\Delta \\left( \\frac{1}{r}\\right) = 0$, or $-4 \\pi \\delta(\\boldsymbol{r}) $"
   ]
  },
  {
   "cell_type": "markdown",
   "metadata": {},
   "source": [
    "・$r \\neq 0$の場合"
   ]
  },
  {
   "cell_type": "markdown",
   "metadata": {},
   "source": [
    "$\n",
    "\\begin{eqnarray}\n",
    "r = (x^2+y^2+z^2)^{\\frac{1}{2}}\n",
    "\\end{eqnarray}\n",
    "$"
   ]
  },
  {
   "cell_type": "markdown",
   "metadata": {},
   "source": [
    "$\n",
    "\\begin{eqnarray}\n",
    "\\frac{\\partial r}{\\partial x} & = & \\frac{1}{2}(x^2+y^2+z^2)^{-\\frac{1}{2}} \\cdot 2x = (x^2+y^2+z^2)^{-\\frac{1}{2}} \\cdot x = \\frac{x}{r}\n",
    "\\end{eqnarray}\n",
    "$"
   ]
  },
  {
   "cell_type": "markdown",
   "metadata": {},
   "source": [
    "$\n",
    "\\begin{eqnarray}\n",
    "\\frac{\\partial^2 r}{\\partial x^2} & = & -\\frac{1}{2}(x^2+y^2+z^2)^{-\\frac{3}{2}}\\cdot 2x^2 + (x^2+y^2+z^2)^{-\\frac{1}{2}}\n",
    "=-\\frac{2x^2}{2 \\sqrt[3]{x^2+y^2+z^2}} + \\frac{1}{\\sqrt{x^2+y^2+z^2}} = -\\frac{x^2}{r^3} + \\frac{1}{r}\n",
    "\\end{eqnarray}\n",
    "$"
   ]
  },
  {
   "cell_type": "markdown",
   "metadata": {},
   "source": [
    "$\n",
    "\\begin{eqnarray}\n",
    "\\boldsymbol{\\nabla} \\frac{1}{r} & = & \\left(\n",
    "\\frac{\\partial}{\\partial x} \\frac{1}{\\sqrt{x^2+y^2+z^2}},\n",
    "\\frac{\\partial}{\\partial y} \\frac{1}{\\sqrt{x^2+y^2+z^2}},\n",
    "\\frac{\\partial}{\\partial z} \\frac{1}{\\sqrt{x^2+y^2+z^2}}\n",
    "\\right)\n",
    "\\\\\n",
    "& = & \\left(\n",
    "-\\frac{1}{2}(x^2+y^2+z^2)^{-\\frac{3}{2}} \\cdot 2x,\n",
    "-\\frac{1}{2}(x^2+y^2+z^2)^{-\\frac{3}{2}} \\cdot 2y,\n",
    "-\\frac{1}{2}(x^2+y^2+z^2)^{-\\frac{3}{2}} \\cdot 2z\n",
    "\\right)\n",
    "\\\\\n",
    "& = & \\left(\n",
    "- \\frac{x}{\\sqrt[3]{x^2+y^2+z^2}},\n",
    "- \\frac{y}{\\sqrt[3]{x^2+y^2+z^2}},\n",
    "- \\frac{z}{\\sqrt[3]{x^2+y^2+z^2}}\n",
    "\\right)\n",
    "\\\\\n",
    "& = & - \\frac{\\boldsymbol{r}}{r^3}\n",
    "\\\\\n",
    "\\therefore\n",
    "\\nabla \\frac{1}{r} & = & -\\frac{\\boldsymbol{r}}{r^3}\n",
    "\\end{eqnarray}\n",
    "$"
   ]
  },
  {
   "cell_type": "markdown",
   "metadata": {},
   "source": [
    "$\n",
    "\\begin{eqnarray}\n",
    "\\Delta \\frac{1}{r} & = & \\nabla \\cdot \\nabla \\frac{1}{r} = \\nabla \\cdot \\left( -\\frac{\\boldsymbol{r}}{r^3}\\right)\n",
    "\\\\\n",
    "& = &\n",
    "\\frac{\\partial}{\\partial x} \\left(-\\frac{x}{\\sqrt[3]{x^2+y^2+z^2}}\\right)+\n",
    "\\frac{\\partial}{\\partial y} \\left(-\\frac{x}{\\sqrt[3]{x^2+y^2+z^2}}\\right)+\n",
    "\\frac{\\partial}{\\partial z} \\left(-\\frac{x}{\\sqrt[3]{x^2+y^2+z^2}}\\right)\n",
    "\\\\\n",
    "& = &\n",
    "\\left( -\\frac{1}{r^3} + 3 \\frac{x^2}{r^5} \\right)+\n",
    "\\left( -\\frac{1}{r^3} + 3 \\frac{y^2}{r^5} \\right)+\n",
    "\\left( -\\frac{1}{r^3} + 3 \\frac{z^2}{r^5} \\right)\n",
    "\\\\\n",
    "& = &\n",
    "-\\frac{3}{r^3} + 3 \\frac{x^2+y^2+z^2}{r^5} = -\\frac{3}{r^3} + 3 \\frac{r^2}{r^5} = 0\n",
    "\\\\\n",
    "\\therefore\n",
    "\\Delta \\frac{1}{r} & = & 0\n",
    "\\end{eqnarray}\n",
    "$"
   ]
  },
  {
   "cell_type": "markdown",
   "metadata": {},
   "source": [
    "・$r = 0$の場合は体積分する"
   ]
  },
  {
   "cell_type": "markdown",
   "metadata": {},
   "source": [
    "$\n",
    "\\begin{eqnarray}\n",
    "\\int_\\rm{V} \\Delta \\left(\\frac{1}{r}\\right) & = & 0\n",
    "\\end{eqnarray}\n",
    "$"
   ]
  },
  {
   "cell_type": "markdown",
   "metadata": {},
   "source": [
    "$\n",
    "\\begin{eqnarray}\n",
    "\\int_{V^\\prime} \\Delta \\left( \\frac{1}{r} \\right) dV & = & \n",
    "\\int_{V^\\prime} \\nabla^2 \\left( \\frac{1}{r} \\right) dV = \n",
    "\\int_{V^\\prime} \\nabla \\cdot \\nabla  \\left( \\frac{1}{r} \\right) dV = \n",
    "\\int_S \\nabla \\left( \\frac{1}{n} \\right) \\cdot \\boldsymbol{n} d S =\n",
    "\\int_{S1} \\nabla \\left( \\frac{1}{n} \\right) \\cdot \\boldsymbol{n} d S +\n",
    "\\int_{S2} \\nabla \\left( \\frac{1}{n} \\right) \\cdot \\boldsymbol{n} d S\n",
    "\\\\\n",
    "& = &\n",
    "\\int_{V} \\Delta \\left( \\frac{1}{r} \\right) dV -\n",
    "\\int_{S2} \\frac{\\boldsymbol{r}}{r^3} \\cdot \\boldsymbol{n}dS = 0\n",
    "\\\\\n",
    "\\therefore\n",
    "\\int_{V} \\Delta \\left( \\frac{1}{r} \\right) dV \n",
    "& = &\n",
    "\\int_{S2} \\frac{\\boldsymbol{r}}{r^3} \\cdot \\boldsymbol{n}dS\n",
    "\\end{eqnarray}\n",
    "$"
   ]
  },
  {
   "cell_type": "markdown",
   "metadata": {},
   "source": [
    "$\\boldsymbol{r} \\cdot \\boldsymbol{n} = -r$から、"
   ]
  },
  {
   "cell_type": "markdown",
   "metadata": {},
   "source": [
    "$\n",
    "\\begin{eqnarray}\n",
    "\\int_{V} \\Delta \\left( \\frac{1}{r} \\right) dV \n",
    "& = &\n",
    "\\int_{S2} \\frac{\\boldsymbol{r}}{r^3} \\cdot \\boldsymbol{n}dS\n",
    "\\\\\n",
    "& = &\n",
    "-\\int_{S2} \\frac{\\boldsymbol{r}}{r^3} dS\n",
    "\\\\\n",
    "& = &\n",
    "-\\int_{S2} \\frac{\\boldsymbol{1}}{r^2} dS\n",
    "\\\\\n",
    "& = & -\\frac{4 \\pi r^2}{r^2} = -4 \\pi\n",
    "\\\\\n",
    "\\therefore \\int_V \\nabla^2 \\left( \\frac{1}{r} \\right) dV & = & -4\\pi\n",
    "\\end{eqnarray}\n",
    "$"
   ]
  },
  {
   "cell_type": "markdown",
   "metadata": {},
   "source": [
    "デルタ関数の定義より"
   ]
  },
  {
   "cell_type": "markdown",
   "metadata": {},
   "source": [
    "$\n",
    "\\begin{eqnarray}\n",
    "\\nabla^2 \\left( \\frac{1}{r} \\right) & = & - 4 \\pi \\delta(\\boldsymbol{r})\n",
    "\\end{eqnarray}\n",
    "$"
   ]
  },
  {
   "cell_type": "code",
   "execution_count": 13,
   "metadata": {},
   "outputs": [
    {
     "name": "stdout",
     "output_type": "stream",
     "text": [
      "b'test'\n",
      "8\n"
     ]
    }
   ],
   "source": [
    "import tensorflow as tf\n",
    "import multiprocessing as mp\n",
    "core_num = mp.cpu_count()\n",
    "config = tf.ConfigProto(\n",
    "        inter_op_parallelism_threads=core_num,\n",
    "        intra_op_parallelism_threads=core_num\n",
    "    )\n",
    "sess = tf.Session(config=config)\n",
    "    \n",
    "test = tf.constant('test')\n",
    "print(sess.run(test))\n",
    "    \n",
    "a = tf.constant(3)\n",
    "b = tf.constant(5)\n",
    "print(sess.run(a + b))"
   ]
  },
  {
   "cell_type": "code",
   "execution_count": 14,
   "metadata": {},
   "outputs": [
    {
     "name": "stderr",
     "output_type": "stream",
     "text": [
      "Using TensorFlow backend.\n"
     ]
    },
    {
     "name": "stdout",
     "output_type": "stream",
     "text": [
      "Downloading data from https://s3.amazonaws.com/img-datasets/mnist.npz\n",
      "11493376/11490434 [==============================] - 2s 0us/step\n",
      "WARNING:tensorflow:From C:\\Users\\a5103330\\AppData\\Local\\Continuum\\anaconda3\\lib\\site-packages\\tensorflow\\python\\framework\\op_def_library.py:263: colocate_with (from tensorflow.python.framework.ops) is deprecated and will be removed in a future version.\n",
      "Instructions for updating:\n",
      "Colocations handled automatically by placer.\n",
      "WARNING:tensorflow:From C:\\Users\\a5103330\\AppData\\Local\\Continuum\\anaconda3\\lib\\site-packages\\tensorflow\\python\\ops\\math_ops.py:3066: to_int32 (from tensorflow.python.ops.math_ops) is deprecated and will be removed in a future version.\n",
      "Instructions for updating:\n",
      "Use tf.cast instead.\n",
      "Train on 54000 samples, validate on 6000 samples\n",
      "Epoch 1/3\n",
      "54000/54000 [==============================] - 7s 129us/step - loss: 2.0910 - acc: 0.4602 - val_loss: 1.8682 - val_acc: 0.7187\n",
      "Epoch 2/3\n",
      "54000/54000 [==============================] - 6s 110us/step - loss: 1.7123 - acc: 0.7059 - val_loss: 1.5134 - val_acc: 0.7592\n",
      "Epoch 3/3\n",
      "54000/54000 [==============================] - 7s 121us/step - loss: 1.4096 - acc: 0.7605 - val_loss: 1.2349 - val_acc: 0.8218\n",
      "10000/10000 [==============================] - 2s 190us/step\n",
      "\n",
      "test accuracy :  0.7971\n"
     ]
    }
   ],
   "source": [
    "# https://qiita.com/sasayabaku/items/64a01363bcd5c44feb0b\n",
    "# encoding: utf-8\n",
    "\n",
    "from keras.datasets import mnist\n",
    "from keras.models import Sequential\n",
    "from keras.layers.core import Dense, Activation\n",
    "from keras.utils import np_utils\n",
    "\n",
    "# kerasのMNISTデータの取得\n",
    "\n",
    "(X_train, y_train), (X_test, y_test) = mnist.load_data()\n",
    "\n",
    "\n",
    "# 配列の整形と，色の範囲を0-255 -> 0-1に変換\n",
    "X_train = X_train.reshape(60000, 784) / 255\n",
    "X_test = X_test.reshape(10000, 784) / 255\n",
    "\n",
    "\n",
    "# 正解ラベルをダミー変数に変換\n",
    "y_train = np_utils.to_categorical(y_train)\n",
    "y_test = np_utils.to_categorical(y_test)\n",
    "\n",
    "# ネットワークの定義\n",
    "\n",
    "model = Sequential([\n",
    "        Dense(512, input_shape=(784,)),\n",
    "        Activation('sigmoid'),\n",
    "        Dense(10),\n",
    "        Activation('softmax')\n",
    "        ])\n",
    "\n",
    "# 損失関数，最適化アルゴリズムなどの設定 + モデルのコンパイルを行う\n",
    "model.compile(loss='categorical_crossentropy', optimizer='sgd', metrics=['accuracy'])\n",
    "\n",
    "# 学習処理の実行 -> 変数histに進捗の情報が格納される\n",
    "# validation_split=0.1 ---> 0.1(10%)の訓練データが交差検証に使われる\n",
    "hist = model.fit(X_train, y_train, batch_size=200, verbose=1, epochs=3, validation_split=0.1)\n",
    "\n",
    "# 予測\n",
    "score = model.evaluate(X_test, y_test, verbose=1)\n",
    "print(\"\")\n",
    "print('test accuracy : ', score[1])"
   ]
  },
  {
   "cell_type": "code",
   "execution_count": 16,
   "metadata": {},
   "outputs": [
    {
     "data": {
      "image/png": "[encoded data removed]",
      "text/plain": [
       "<Figure size 432x288 with 1 Axes>"
      ]
     },
     "metadata": {
      "needs_background": "light"
     },
     "output_type": "display_data"
    }
   ],
   "source": [
    "import matplotlib.pyplot as plt\n",
    "loss = hist.history['loss']\n",
    "val_loss = hist.history['val_loss']\n",
    "\n",
    "# lossのグラフ\n",
    "plt.plot(range(3), loss, marker='.', label='loss')\n",
    "plt.plot(range(3), val_loss, marker='.', label='val_loss')\n",
    "plt.legend(loc='best', fontsize=10)\n",
    "plt.grid()\n",
    "plt.xlabel('epoch')\n",
    "plt.ylabel('loss')\n",
    "plt.show()"
   ]
  },
  {
   "cell_type": "markdown",
   "metadata": {},
   "source": [
    "・作用$S$によるSch\\uodinger$方程式"
   ]
  },
  {
   "cell_type": "code",
   "execution_count": null,
   "metadata": {},
   "outputs": [],
   "source": []
  }
 ],
 "metadata": {
  "kernelspec": {
   "display_name": "Python 3",
   "language": "python",
   "name": "python3"
  },
  "language_info": {
   "codemirror_mode": {
    "name": "ipython",
    "version": 3
   },
   "file_extension": ".py",
   "mimetype": "text/x-python",
   "name": "python",
   "nbconvert_exporter": "python",
   "pygments_lexer": "ipython3",
   "version": "3.7.3"
  }
 },
 "nbformat": 4,
 "nbformat_minor": 2
}
