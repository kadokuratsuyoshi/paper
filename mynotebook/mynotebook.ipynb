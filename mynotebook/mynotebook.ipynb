{
 "cells": [
  {
   "cell_type": "markdown",
   "metadata": {},
   "source": [
    "We consider the dynamics of a dilute quantum fluid at zero temperature, \n",
    "which is described by the three-dimensional Gross-Pitaevskii equation given by"
   ]
  },
  {
   "cell_type": "markdown",
   "metadata": {},
   "source": [
    "$\n",
    "\\begin{eqnarray}\n",
    "(i-\\gamma) \\hbar \\frac{\\partial \\Psi}{\\partial t} = - \\frac{\\hbar^2}{2m} \\boldsymbol{\\nabla}^2 \\Psi + U(\\boldsymbol{r},t)\\Psi + g|\\Psi|^2\\Psi \n",
    "\\end{eqnarray}\n",
    "$"
   ]
  },
  {
   "cell_type": "markdown",
   "metadata": {},
   "source": [
    "### Summation of the velocity field in many-body components"
   ]
  },
  {
   "cell_type": "markdown",
   "metadata": {},
   "source": [
    "$\n",
    "\\begin{eqnarray}\n",
    "E_{kin}=\\sum_{i}\\frac{1}{2}\\int |\\boldsymbol{\\nabla}\\psi_i|^2 d \\boldsymbol{r}\n",
    "\\end{eqnarray}\n",
    "$"
   ]
  },
  {
   "cell_type": "markdown",
   "metadata": {},
   "source": [
    "$\n",
    "\\begin{eqnarray}\n",
    "\\boldsymbol{v}_A (\\boldsymbol{r})=\\frac{ {\\sum_j}\\rho_j(\\boldsymbol{r}) \\boldsymbol{\\nabla}\\phi_j (\\boldsymbol{r})}{\\sum_j \\rho_j (\\boldsymbol{r})}\n",
    "\\end{eqnarray}\n",
    "$"
   ]
  },
  {
   "cell_type": "code",
   "execution_count": null,
   "metadata": {},
   "outputs": [],
   "source": []
  }
 ],
 "metadata": {
  "kernelspec": {
   "display_name": "Python 3",
   "language": "python",
   "name": "python3"
  },
  "language_info": {
   "codemirror_mode": {
    "name": "ipython",
    "version": 3
   },
   "file_extension": ".py",
   "mimetype": "text/x-python",
   "name": "python",
   "nbconvert_exporter": "python",
   "pygments_lexer": "ipython3",
   "version": "3.7.3"
  }
 },
 "nbformat": 4,
 "nbformat_minor": 2
}
